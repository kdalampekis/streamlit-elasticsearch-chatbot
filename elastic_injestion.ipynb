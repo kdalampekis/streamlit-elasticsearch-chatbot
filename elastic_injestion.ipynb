{
 "cells": [
  {
   "cell_type": "code",
   "execution_count": 6,
   "metadata": {},
   "outputs": [
    {
     "name": "stdout",
     "output_type": "stream",
     "text": [
      "Collecting pymupdf\n",
      "  Downloading pymupdf-1.25.4-cp39-abi3-macosx_11_0_arm64.whl.metadata (3.4 kB)\n",
      "Downloading pymupdf-1.25.4-cp39-abi3-macosx_11_0_arm64.whl (18.6 MB)\n",
      "\u001b[2K   \u001b[90m━━━━━━━━━━━━━━━━━━━━━━━━━━━━━━━━━━━━━━━━\u001b[0m \u001b[32m18.6/18.6 MB\u001b[0m \u001b[31m18.3 MB/s\u001b[0m eta \u001b[36m0:00:00\u001b[0ma \u001b[36m0:00:01\u001b[0m\n",
      "\u001b[?25hInstalling collected packages: pymupdf\n",
      "Successfully installed pymupdf-1.25.4\n",
      "\n",
      "\u001b[1m[\u001b[0m\u001b[34;49mnotice\u001b[0m\u001b[1;39;49m]\u001b[0m\u001b[39;49m A new release of pip is available: \u001b[0m\u001b[31;49m24.3.1\u001b[0m\u001b[39;49m -> \u001b[0m\u001b[32;49m25.0.1\u001b[0m\n",
      "\u001b[1m[\u001b[0m\u001b[34;49mnotice\u001b[0m\u001b[1;39;49m]\u001b[0m\u001b[39;49m To update, run: \u001b[0m\u001b[32;49mpython3.10 -m pip install --upgrade pip\u001b[0m\n",
      "Note: you may need to restart the kernel to use updated packages.\n"
     ]
    }
   ],
   "source": [
    "%pip install pymupdf"
   ]
  },
  {
   "cell_type": "code",
   "execution_count": 7,
   "metadata": {},
   "outputs": [],
   "source": [
    "from langchain.document_loaders import PyMuPDFLoader\n",
    "\n",
    "# Load a PDF\n",
    "loader = PyMuPDFLoader(\"examle_file.pdf\")\n",
    "documents = loader.load()\n"
   ]
  },
  {
   "cell_type": "code",
   "execution_count": 9,
   "metadata": {},
   "outputs": [
    {
     "name": "stderr",
     "output_type": "stream",
     "text": [
      "/opt/homebrew/lib/python3.10/site-packages/tqdm/auto.py:21: TqdmWarning: IProgress not found. Please update jupyter and ipywidgets. See https://ipywidgets.readthedocs.io/en/stable/user_install.html\n",
      "  from .autonotebook import tqdm as notebook_tqdm\n",
      "[nltk_data] Downloading package punkt to\n",
      "[nltk_data]     /Users/konstantinosdalampekis/nltk_data...\n",
      "[nltk_data]   Package punkt is already up-to-date!\n"
     ]
    }
   ],
   "source": [
    "import numpy as np\n",
    "import pandas as pd\n",
    "import nltk\n",
    "from sklearn.cluster import AgglomerativeClustering\n",
    "from sklearn.metrics.pairwise import cosine_similarity\n",
    "from sentence_transformers import SentenceTransformer\n",
    "nltk.download('punkt')\n",
    "import os\n",
    "import re\n",
    "import pdfplumber\n",
    "import pytesseract\n",
    "from pdf2image import convert_from_path"
   ]
  },
  {
   "cell_type": "code",
   "execution_count": 10,
   "metadata": {},
   "outputs": [],
   "source": [
    "def ocr_from_image(image_path):\n",
    "    text = pytesseract.image_to_string(image_path)\n",
    "    return text\n",
    "\n",
    "\n",
    "def extract_text_from_pdf(file_path):\n",
    "    text = \"\"\n",
    "    try:\n",
    "        with pdfplumber.open(file_path) as pdf:\n",
    "            for page in pdf.pages:\n",
    "                text += page.extract_text() or \"\"\n",
    "    except Exception as e:\n",
    "        print(f\"Error with PDFplumber: {e}. Attempting OCR.\")\n",
    "        images = convert_from_path(file_path)\n",
    "        for image in images:\n",
    "            text += ocr_from_image(image)\n",
    "    return text\n",
    "\n",
    "def parse_pdf(file_path):\n",
    "    print(f\"Parsing {file_path}\")\n",
    "    parsed_text = extract_text_from_pdf(file_path)\n",
    "    print(parsed_text)\n",
    "    return parsed_text"
   ]
  },
  {
   "cell_type": "code",
   "execution_count": 11,
   "metadata": {},
   "outputs": [],
   "source": [
    "import os\n",
    "import PyPDF2\n",
    "\n",
    "def parse_pdf(file_path):\n",
    "    with open(file_path, 'rb') as file:\n",
    "        reader = PyPDF2.PdfReader(file)\n",
    "        text = ''\n",
    "        for page in reader.pages:\n",
    "            text += page.extract_text() + '\\n'\n",
    "    return text"
   ]
  },
  {
   "cell_type": "code",
   "execution_count": null,
   "metadata": {},
   "outputs": [],
   "source": [
    "output_folder = './parsed_docs'\n",
    "os.makedirs(output_folder, exist_ok=True)\n",
    "\n",
    "pdf_folder = './pdf_files'\n",
    "for filename in os.listdir(pdf_folder):\n",
    "    if filename.lower().endswith('.pdf'):\n",
    "        file_path = os.path.join(pdf_folder, filename)\n",
    "        parsed_text = parse_pdf(file_path)\n",
    "        output_path = os.path.join(output_folder, filename.replace('.pdf', '.txt'))\n",
    "        with open(output_path, 'w', encoding='utf-8') as output_file:\n",
    "            output_file.write(parsed_text)\n",
    "        print(f'Parsed and saved: {output_path}')\n",
    "\n",
    "print('All PDF files have been processed and stored in the parsed_docs folder.')"
   ]
  },
  {
   "cell_type": "code",
   "execution_count": 5,
   "metadata": {},
   "outputs": [
    {
     "name": "stderr",
     "output_type": "stream",
     "text": [
      "/opt/homebrew/lib/python3.10/site-packages/tqdm/auto.py:21: TqdmWarning: IProgress not found. Please update jupyter and ipywidgets. See https://ipywidgets.readthedocs.io/en/stable/user_install.html\n",
      "  from .autonotebook import tqdm as notebook_tqdm\n"
     ]
    }
   ],
   "source": [
    "from langchain.text_splitter import RecursiveCharacterTextSplitter\n",
    "from sentence_transformers import SentenceTransformer\n",
    "import os\n",
    "\n",
    "def load_and_chunk(file_path, chunk_size=500, chunk_overlap=100):\n",
    "    with open(file_path, 'r', encoding='utf-8') as file:\n",
    "        text = file.read()\n",
    "\n",
    "    splitter = RecursiveCharacterTextSplitter(\n",
    "        chunk_size=chunk_size,\n",
    "        chunk_overlap=chunk_overlap\n",
    "    )\n",
    "\n",
    "    chunks = splitter.create_documents([text])\n",
    "    return chunks  # Each chunk is a Document object with .page_content"
   ]
  },
  {
   "cell_type": "code",
   "execution_count": 6,
   "metadata": {},
   "outputs": [],
   "source": [
    "def generate_embeddings(chunks, model_name='all-MiniLM-L6-v2'):\n",
    "    model = SentenceTransformer(model_name)\n",
    "    texts = [chunk.page_content for chunk in chunks]\n",
    "    embeddings = model.encode(texts, convert_to_tensor=True)\n",
    "    return embeddings.cpu().numpy(), texts"
   ]
  },
  {
   "cell_type": "code",
   "execution_count": 7,
   "metadata": {},
   "outputs": [],
   "source": [
    "def save_chunks(chunks, output_path='rag_chunks.txt'):\n",
    "    os.makedirs(os.path.dirname(output_path), exist_ok=True)\n",
    "    with open(output_path, 'w', encoding='utf-8') as f:\n",
    "        for i, chunk in enumerate(chunks):\n",
    "            f.write(f\"Chunk {i + 1}:\\n\")\n",
    "            f.write(chunk.page_content + \"\\n\\n\")\n",
    "    print(f\"Chunks saved to {output_path}\")"
   ]
  },
  {
   "cell_type": "code",
   "execution_count": 35,
   "metadata": {},
   "outputs": [],
   "source": [
    "file_path = 'your_file_path.txt'  # or preprocessed PDF-to-text\n",
    "chunks = load_and_chunk(file_path)\n",
    "\n",
    "embeddings, texts = generate_embeddings(chunks)\n"
   ]
  },
  {
   "cell_type": "code",
   "execution_count": 17,
   "metadata": {},
   "outputs": [],
   "source": [
    "import elasticsearch\n",
    "from elasticsearch import Elasticsearch"
   ]
  },
  {
   "cell_type": "code",
   "execution_count": 18,
   "metadata": {},
   "outputs": [
    {
     "name": "stderr",
     "output_type": "stream",
     "text": [
      "/opt/homebrew/lib/python3.10/site-packages/urllib3/connectionpool.py:1099: InsecureRequestWarning: Unverified HTTPS request is being made to host 'ae9a1c3a-a273-4962-8dfb-37c3f360d8db.br37s45d0p54n73ffbr0.databases.appdomain.cloud'. Adding certificate verification is strongly advised. See: https://urllib3.readthedocs.io/en/latest/advanced-usage.html#tls-warnings\n",
      "  warnings.warn(\n"
     ]
    },
    {
     "data": {
      "text/plain": [
       "True"
      ]
     },
     "execution_count": 18,
     "metadata": {},
     "output_type": "execute_result"
    }
   ],
   "source": [
    "ELASTICSEARCH_HOST = \"https://your_elasticsearch_url\"\n",
    "ELASTICSEARCH_PORT = 0****\n",
    "ELASTICSEARCH_USERNAME = \"your_username\"  # Replace with actual username\n",
    "ELASTICSEARCH_PASSWORD = \"your_password\"  # Replace with actual password\n",
    "\n",
    "es_client = Elasticsearch(\n",
    "    f\"{ELASTICSEARCH_HOST}\",\n",
    "    basic_auth=(ELASTICSEARCH_USERNAME, ELASTICSEARCH_PASSWORD),\n",
    "    verify_certs=False,\n",
    "    request_timeout=60  # ⏰ increase timeout\n",
    "\n",
    ")\n",
    "\n",
    "es_client.ping()"
   ]
  },
  {
   "cell_type": "code",
   "execution_count": 36,
   "metadata": {},
   "outputs": [
    {
     "name": "stderr",
     "output_type": "stream",
     "text": [
      "/opt/homebrew/lib/python3.10/site-packages/urllib3/connectionpool.py:1099: InsecureRequestWarning: Unverified HTTPS request is being made to host 'ae9a1c3a-a273-4962-8dfb-37c3f360d8db.br37s45d0p54n73ffbr0.databases.appdomain.cloud'. Adding certificate verification is strongly advised. See: https://urllib3.readthedocs.io/en/latest/advanced-usage.html#tls-warnings\n",
      "  warnings.warn(\n",
      "/opt/homebrew/lib/python3.10/site-packages/urllib3/connectionpool.py:1099: InsecureRequestWarning: Unverified HTTPS request is being made to host 'ae9a1c3a-a273-4962-8dfb-37c3f360d8db.br37s45d0p54n73ffbr0.databases.appdomain.cloud'. Adding certificate verification is strongly advised. See: https://urllib3.readthedocs.io/en/latest/advanced-usage.html#tls-warnings\n",
      "  warnings.warn(\n"
     ]
    }
   ],
   "source": [
    "from langchain_community.vectorstores import ElasticsearchStore\n",
    "from langchain.embeddings import HuggingFaceEmbeddings\n",
    "\n",
    "embedding_model = HuggingFaceEmbeddings(model_name=\"sentence-transformers/all-MiniLM-L6-v2\")\n",
    "\n",
    "vectorstore = ElasticsearchStore.from_texts(\n",
    "    texts=texts,\n",
    "    embedding=embedding_model,\n",
    "    index_name=\"your_index_name\",\n",
    "    es_connection=es_client  # ✅ Use es_connection\n",
    ")\n"
   ]
  },
  {
   "cell_type": "code",
   "execution_count": 112,
   "metadata": {},
   "outputs": [],
   "source": [
    "retriever = vectorstore.as_retriever(\n",
    "    search_type=\"similarity\",\n",
    "    search_kwargs={\"k\": 5}  # You can tune k\n",
    ")\n"
   ]
  },
  {
   "cell_type": "code",
   "execution_count": 110,
   "metadata": {},
   "outputs": [
    {
     "data": {
      "text/plain": [
       "True"
      ]
     },
     "execution_count": 110,
     "metadata": {},
     "output_type": "execute_result"
    }
   ],
   "source": [
    "es_client.ping()  # Returns True?\n"
   ]
  },
  {
   "cell_type": "code",
   "execution_count": null,
   "metadata": {},
   "outputs": [],
   "source": [
    "query = \"Tάσεις που να αφορούν ειδικά κοινά ταξιδιωτών\"\n",
    "\n",
    "# Retrieve top-k relevant chunks\n",
    "results = retriever.get_relevant_documents(query)\n",
    "\n",
    "# Print the matched content\n",
    "for i, doc in enumerate(results):\n",
    "    print(f\"\\n🔹 Document {i+1}:\\n{doc.page_content}\\n\")\n"
   ]
  },
  {
   "cell_type": "markdown",
   "metadata": {},
   "source": [
    "Elastic Search Retriever"
   ]
  },
  {
   "cell_type": "code",
   "execution_count": null,
   "metadata": {},
   "outputs": [],
   "source": [
    "\n",
    "query = \"Tάσεις που να αφορούν ειδικά κοινά ταξιδιωτών\"\n",
    "\n",
    "\n",
    "\n",
    "\n"
   ]
  },
  {
   "cell_type": "code",
   "execution_count": 97,
   "metadata": {},
   "outputs": [],
   "source": [
    "from sentence_transformers import SentenceTransformer\n",
    "\n",
    "# Use the same model you used for indexing\n",
    "model = SentenceTransformer('all-MiniLM-L6-v2')\n",
    "query_vector = model.encode(query).tolist()\n"
   ]
  },
  {
   "cell_type": "code",
   "execution_count": null,
   "metadata": {},
   "outputs": [],
   "source": [
    "# Step 2: Run the kNN search\n",
    "response = es_client.search(\n",
    "    index=\"your_index_name\",\n",
    "    knn={\n",
    "        \"field\": \"vector\",\n",
    "        \"query_vector\": query_vector,\n",
    "        \"k\": 5,\n",
    "        \"num_candidates\": 100\n",
    "    }\n",
    ")\n",
    "\n",
    "# Step 3: Display results\n",
    "for i, hit in enumerate(response[\"hits\"][\"hits\"]):\n",
    "    print(f\"\\n🔹 Document {i+1} (score: {hit['_score']}):\")\n",
    "    print(hit[\"_source\"].get(\"text\", \"[No text field]\"))"
   ]
  },
  {
   "cell_type": "code",
   "execution_count": 118,
   "metadata": {},
   "outputs": [
    {
     "name": "stdout",
     "output_type": "stream",
     "text": [
      "[-0.04851391166448593, 0.08879464119672775, 0.04345763474702835, -0.02750181220471859, -0.04511796683073044, -0.0488043911755085, 0.054508406668901443, 0.022584620863199234, 0.011165088973939419, 0.05132095143198967, -0.0015676941256970167, -0.01733952946960926, -0.05016481503844261, 0.006822132971137762, -0.08699511736631393, -0.09649045020341873, -0.05166640505194664, 0.07538685947656631, -0.008570750243961811, -0.03920086473226547, 0.04275991767644882, -0.03393405303359032, 0.06912093609571457, 0.011319302953779697, 0.020726162940263748, 0.07011815905570984, -0.018094802275300026, -0.1178569421172142, 0.06687517464160919, 0.03929853066802025, -0.0033483535517007113, -0.04811941087245941, 0.0688079446554184, -0.046538323163986206, -0.03846698999404907, 0.036646537482738495, -0.06330659985542297, -0.0244973786175251, 0.06278559565544128, -0.0006168063846416771, -0.010219249874353409, -0.01901366002857685, -0.013489929959177971, 0.02655153162777424, -0.057653650641441345, 0.0354527086019516, -0.04504910483956337, -0.000633828341960907, 0.025281043723225594, 0.05853007733821869, -0.07967954128980637, -0.04912399873137474, -0.014123119413852692, -0.02578265592455864, -0.08087752759456635, 0.11004100739955902, -0.009895764291286469, -0.02838589809834957, -0.07367604970932007, -0.0948592871427536, 0.03973911702632904, -0.009611965157091618, 0.0477406270802021, 0.08513850718736649, -0.05523422732949257, 0.03397404029965401, 0.042627349495887756, 0.005357618909329176, -0.06529698520898819, 0.006660045590251684, 0.028171498328447342, 0.028361940756440163, 0.0438634492456913, -0.08024049550294876, -0.05385497584939003, 0.011882837861776352, 0.04311118647456169, -0.07394994050264359, -0.032482802867889404, 0.005042502656579018, 0.06025007739663124, 0.0189129076898098, -0.03722260892391205, 0.05412878468632698, -0.08883235603570938, 0.02768075466156006, 0.01126816775649786, -0.0207839198410511, 0.07310374826192856, 0.011037273332476616, 0.007861173711717129, -0.04533682391047478, -0.02160339057445526, -0.0053734974935650826, -0.039315998554229736, 0.051217373460531235, -0.02129366621375084, 0.0491890124976635, -0.011309783905744553, 0.0011027299333363771, -0.0009402538416907191, 0.023305002599954605, 0.06433042883872986, 0.04973519220948219, -0.030532874166965485, 0.0026045837439596653, -0.07531460374593735, -0.1767767071723938, 0.05891572684049606, -0.008618157356977463, -0.03512951731681824, -0.13083985447883606, 0.008232345804572105, -0.09075593203306198, -0.038768112659454346, 0.09167992323637009, 0.06226417422294617, 0.016756966710090637, 0.0186564140021801, 0.040544066578149796, 0.028596604242920876, -0.020716127008199692, 0.007672993466258049, -0.00972251407802105, -0.024977197870612144, 0.009108136408030987, 0.07355176657438278, 2.551220939995705e-33, -0.033913977444171906, 0.03219626843929291, -0.038288988173007965, -0.09538658708333969, -0.050819069147109985, 0.0021092393435537815, 0.05353517457842827, -0.007517805323004723, -0.06105712428689003, -0.10833290964365005, -0.12290589511394501, -0.06935703009366989, -0.019303876906633377, -0.004049471113830805, -0.01658441871404648, 0.026701929047703743, 0.09095156937837601, 0.011818771250545979, 0.04825859144330025, 0.04697543382644653, 0.021906718611717224, 0.03839881718158722, -0.0740802139043808, -0.04104962199926376, 0.00862447451800108, -0.0012224559905007482, 0.03400411456823349, 0.08650106936693192, -0.03323495760560036, 0.016445208340883255, 0.02690081112086773, 0.050907980650663376, -0.019434258341789246, 0.04510236531496048, 0.0674019604921341, 0.024734944105148315, -0.03509503975510597, 0.06825230270624161, -0.009812425822019577, 0.0013440254842862487, -0.026509441435337067, 0.02860599383711815, 0.010931083001196384, 0.03395553678274155, 0.07746437937021255, 0.009678879752755165, -0.0466168113052845, -0.025702662765979767, 0.005224574822932482, 0.03316392004489899, -0.03268308937549591, 0.027800587937235832, 0.07082004845142365, 0.0398007407784462, 0.04108622297644615, 0.04329092428088188, -0.02757316455245018, 0.04691069945693016, 0.024378618225455284, -0.04512155055999756, 0.002213774947449565, -0.04166669771075249, -0.00036057192482985556, 0.04230135306715965, 0.008093959651887417, -0.015118034556508064, -0.050506219267845154, -0.10517845302820206, -0.02162163332104683, 0.0040452806279063225, -0.080036461353302, -0.001015509245917201, -0.028307141736149788, 0.10243916511535645, -0.07687366753816605, 0.061944447457790375, -0.008577581495046616, -0.0866214781999588, -0.11309241503477097, 0.00048321246867999434, -0.11623825132846832, -0.04153946414589882, -0.007461157627403736, 0.0034478323068469763, 0.06120821461081505, 0.07140592485666275, 0.03482160344719887, 0.01160755567252636, 0.06493701040744781, -0.031541235744953156, 0.04114259406924248, -0.012792762368917465, -0.08783481270074844, -0.03140801563858986, -0.03318096697330475, -4.959720335412276e-33, 0.0035249441862106323, -0.0418829545378685, -0.10267581790685654, 0.06397220492362976, -0.07143140584230423, 0.006285065785050392, -0.024879444390535355, 0.06540681421756744, 0.058968134224414825, 0.054434634745121, -0.040081221610307693, 0.006789603736251593, -0.029595546424388885, -0.028929496183991432, -0.053552594035863876, -0.015616695396602154, 0.09158194810152054, 0.1099587008357048, -0.0016056635649874806, -0.005606978666037321, 0.022874116897583008, -0.01305126678198576, -0.026315582916140556, -0.001986905699595809, 0.04202621057629585, -0.04818464443087578, 0.06687185913324356, 0.005562260746955872, -0.12115749716758728, -0.03201347216963768, 0.02410047873854637, -0.013842575252056122, -0.04655100032687187, 0.11965040862560272, -0.009143805131316185, 0.030370404943823814, 0.08465656638145447, 0.056083038449287415, -0.012660723179578781, -0.07494103163480759, 0.09058092534542084, -0.002120912540704012, 0.0855056494474411, 0.06488168239593506, 0.006051317322999239, -0.00258909584954381, -0.03813289478421211, 0.05059337243437767, 0.017839863896369934, -0.0027925558388233185, -0.006894120946526527, -0.03370671346783638, -0.025552598759531975, -0.08781594038009644, 0.1234421581029892, 0.05558362603187561, -0.019381608814001083, -0.02977338619530201, 0.019715867936611176, -0.039390671998262405, 0.08179925382137299, -0.026679513975977898, -8.67270864546299e-05, 0.05601287633180618, 0.045092154294252396, 0.02225804328918457, -0.07861582189798355, 0.06436246633529663, 0.047723859548568726, 0.056049276143312454, -0.038011983036994934, 0.006661685183644295, -0.07444485276937485, 0.015042757615447044, 0.011255570687353611, 0.00437295064330101, -0.025797050446271896, -0.05003517493605614, 0.08136768639087677, -0.12555955350399017, -0.006597469560801983, -0.02226228639483452, -0.005928021855652332, -0.004893288016319275, 0.05224422737956047, -0.13123102486133575, 0.039236098527908325, -0.015697473660111427, -0.025093713775277138, -0.006949384696781635, -0.005570986308157444, 0.05592198669910431, -0.046411946415901184, -0.008287078700959682, 0.016471104696393013, -3.040645779606166e-08, 0.06963858008384705, -0.026041127741336823, -0.029225926846265793, 0.025178218260407448, 0.023042699322104454, -0.05114488676190376, 0.09937233477830887, -0.0008930530748330057, 0.006194784305989742, 0.05370533466339111, 0.0134200444445014, 0.04627671092748642, 0.036838874220848083, 0.01220746524631977, 0.030743081122636795, 0.06905664503574371, 0.026092128828167915, 0.04129037261009216, -0.027136461809277534, -0.016448630020022392, 0.12761637568473816, -0.012558545917272568, -0.04628046974539757, -0.06763212382793427, -0.03999137505888939, -0.0014363692607730627, 0.03618043288588524, 0.012313270941376686, -0.02597798965871334, -0.11099793016910553, -0.069968581199646, -0.043833356350660324, -0.05789452791213989, -0.055503521114587784, 0.02101512812077999, 0.031012143939733505, -0.15397202968597412, 0.02945876307785511, 0.042853690683841705, -0.06487436592578888, 0.0017281840555369854, 0.026978131383657455, 0.04364730045199394, 0.00474111083894968, -0.032945454120635986, -0.06826554238796234, 0.031432878226041794, 0.019152773544192314, 0.006833093706518412, -0.028189899399876595, -0.044669151306152344, 0.05074246972799301, 0.008418388664722443, -0.014270235784351826, -0.023152068257331848, -0.046932730823755264, 0.0568682923913002, 0.00514807878062129, -0.07249676436185837, -0.05183810368180275, 0.0475405789911747, 0.009222756139934063, -0.012258091941475868, -0.046031203120946884]\n"
     ]
    }
   ],
   "source": [
    "print(query_vector)"
   ]
  },
  {
   "cell_type": "code",
   "execution_count": 99,
   "metadata": {},
   "outputs": [],
   "source": [
    "retrieved_chunks = [hit[\"_source\"].get(\"text\", \"\") for hit in response[\"hits\"][\"hits\"]]\n",
    "context = \"\\n\\n\".join(retrieved_chunks)\n"
   ]
  },
  {
   "cell_type": "code",
   "execution_count": 100,
   "metadata": {},
   "outputs": [],
   "source": [
    "import os\n",
    "from dotenv import load_dotenv\n",
    "from ibm_watsonx_ai.foundation_models import Model\n",
    "\n",
    "def initialize_model():\n",
    "    # Load environment variables\n",
    "  \n",
    "    # Access environment variables\n",
    "    project_id = \"your_project_id\"\n",
    "    apikey = \"your_apikey\"\n",
    "    model_id = \"meta-llama/llama-3-3-70b-instruct\"\n",
    "    url = \"https://us-south.ml.cloud.ibm.com\"\n",
    "\n",
    "    # Define model parameters\n",
    "    parameters= {\n",
    "        \"decoding_method\": \"greedy\",\n",
    "        \"max_new_tokens\": 2000,\n",
    "        \"min_new_tokens\": 50,\n",
    "        \"stop_sequences\": [],\n",
    "        \"repetition_penalty\": 1.1\n",
    "    }\n",
    "    # Get credentials\n",
    "    credentials = {\n",
    "        \"url\": url,\n",
    "        \"apikey\": apikey\n",
    "    }\n",
    "\n",
    "    # Initialize and return the model\n",
    "    model = Model(\n",
    "        model_id=model_id,\n",
    "        params=parameters,\n",
    "        credentials=credentials,\n",
    "        project_id=project_id\n",
    "    )\n",
    "    \n",
    "    return model"
   ]
  },
  {
   "cell_type": "code",
   "execution_count": 117,
   "metadata": {},
   "outputs": [],
   "source": [
    "\n",
    "prompt = f\"\"\" Here you can use your own prompt\n",
    "\n",
    "Data:\n",
    "{context}\n",
    "\n",
    "Query:\n",
    "{query}\n",
    "\n",
    "Answer:\"\"\"\n"
   ]
  },
  {
   "cell_type": "code",
   "execution_count": null,
   "metadata": {},
   "outputs": [],
   "source": [
    "print(context)"
   ]
  },
  {
   "cell_type": "code",
   "execution_count": 103,
   "metadata": {},
   "outputs": [],
   "source": [
    "model = initialize_model()  # your existing init function"
   ]
  },
  {
   "cell_type": "code",
   "execution_count": 104,
   "metadata": {},
   "outputs": [],
   "source": [
    "def rag_generate(prompt, model):\n",
    "    response = model.generate(prompt=prompt)\n",
    "    return response['results'][0]['generated_text']"
   ]
  },
  {
   "cell_type": "code",
   "execution_count": null,
   "metadata": {},
   "outputs": [],
   "source": [
    "output = rag_generate(prompt, model)\n",
    "print(output)"
   ]
  },
  {
   "cell_type": "code",
   "execution_count": 1,
   "metadata": {},
   "outputs": [
    {
     "name": "stdout",
     "output_type": "stream",
     "text": [
      "Collecting streamlit\n",
      "  Downloading streamlit-1.44.0-py3-none-any.whl.metadata (8.9 kB)\n",
      "Requirement already satisfied: altair<6,>=4.0 in /opt/homebrew/lib/python3.10/site-packages (from streamlit) (5.4.1)\n",
      "Requirement already satisfied: blinker<2,>=1.0.0 in /opt/homebrew/lib/python3.10/site-packages (from streamlit) (1.9.0)\n",
      "Requirement already satisfied: cachetools<6,>=4.0 in /opt/homebrew/lib/python3.10/site-packages (from streamlit) (5.5.0)\n",
      "Requirement already satisfied: click<9,>=7.0 in /opt/homebrew/lib/python3.10/site-packages (from streamlit) (8.1.7)\n",
      "Requirement already satisfied: numpy<3,>=1.23 in /opt/homebrew/lib/python3.10/site-packages (from streamlit) (1.26.4)\n",
      "Requirement already satisfied: packaging<25,>=20 in /Users/konstantinosdalampekis/Library/Python/3.10/lib/python/site-packages (from streamlit) (24.2)\n",
      "Requirement already satisfied: pandas<3,>=1.4.0 in /opt/homebrew/lib/python3.10/site-packages (from streamlit) (2.1.4)\n",
      "Requirement already satisfied: pillow<12,>=7.1.0 in /opt/homebrew/lib/python3.10/site-packages (from streamlit) (11.0.0)\n",
      "Requirement already satisfied: protobuf<6,>=3.20 in /opt/homebrew/lib/python3.10/site-packages (from streamlit) (3.20.3)\n",
      "Requirement already satisfied: pyarrow>=7.0 in /opt/homebrew/lib/python3.10/site-packages (from streamlit) (18.0.0)\n",
      "Requirement already satisfied: requests<3,>=2.27 in /opt/homebrew/lib/python3.10/site-packages (from streamlit) (2.32.2)\n",
      "Requirement already satisfied: tenacity<10,>=8.1.0 in /opt/homebrew/lib/python3.10/site-packages (from streamlit) (9.0.0)\n",
      "Requirement already satisfied: toml<2,>=0.10.1 in /opt/homebrew/lib/python3.10/site-packages (from streamlit) (0.10.2)\n",
      "Requirement already satisfied: typing-extensions<5,>=4.4.0 in /Users/konstantinosdalampekis/Library/Python/3.10/lib/python/site-packages (from streamlit) (4.12.2)\n",
      "Requirement already satisfied: gitpython!=3.1.19,<4,>=3.0.7 in /opt/homebrew/lib/python3.10/site-packages (from streamlit) (3.1.43)\n",
      "Requirement already satisfied: pydeck<1,>=0.8.0b4 in /opt/homebrew/lib/python3.10/site-packages (from streamlit) (0.9.1)\n",
      "Requirement already satisfied: tornado<7,>=6.0.3 in /opt/homebrew/lib/python3.10/site-packages (from streamlit) (6.4.1)\n",
      "Requirement already satisfied: jinja2 in /opt/homebrew/lib/python3.10/site-packages (from altair<6,>=4.0->streamlit) (3.1.4)\n",
      "Requirement already satisfied: jsonschema>=3.0 in /opt/homebrew/lib/python3.10/site-packages (from altair<6,>=4.0->streamlit) (4.23.0)\n",
      "Requirement already satisfied: narwhals>=1.5.2 in /opt/homebrew/lib/python3.10/site-packages (from altair<6,>=4.0->streamlit) (1.13.5)\n",
      "Requirement already satisfied: gitdb<5,>=4.0.1 in /opt/homebrew/lib/python3.10/site-packages (from gitpython!=3.1.19,<4,>=3.0.7->streamlit) (4.0.11)\n",
      "Requirement already satisfied: python-dateutil>=2.8.2 in /Users/konstantinosdalampekis/Library/Python/3.10/lib/python/site-packages (from pandas<3,>=1.4.0->streamlit) (2.9.0.post0)\n",
      "Requirement already satisfied: pytz>=2020.1 in /opt/homebrew/lib/python3.10/site-packages (from pandas<3,>=1.4.0->streamlit) (2024.2)\n",
      "Requirement already satisfied: tzdata>=2022.1 in /opt/homebrew/lib/python3.10/site-packages (from pandas<3,>=1.4.0->streamlit) (2024.2)\n",
      "Requirement already satisfied: charset-normalizer<4,>=2 in /opt/homebrew/lib/python3.10/site-packages (from requests<3,>=2.27->streamlit) (3.4.0)\n",
      "Requirement already satisfied: idna<4,>=2.5 in /opt/homebrew/lib/python3.10/site-packages (from requests<3,>=2.27->streamlit) (3.10)\n",
      "Requirement already satisfied: urllib3<3,>=1.21.1 in /opt/homebrew/lib/python3.10/site-packages (from requests<3,>=2.27->streamlit) (2.2.3)\n",
      "Requirement already satisfied: certifi>=2017.4.17 in /opt/homebrew/lib/python3.10/site-packages (from requests<3,>=2.27->streamlit) (2024.8.30)\n",
      "Requirement already satisfied: smmap<6,>=3.0.1 in /opt/homebrew/lib/python3.10/site-packages (from gitdb<5,>=4.0.1->gitpython!=3.1.19,<4,>=3.0.7->streamlit) (5.0.1)\n",
      "Requirement already satisfied: MarkupSafe>=2.0 in /opt/homebrew/lib/python3.10/site-packages (from jinja2->altair<6,>=4.0->streamlit) (3.0.2)\n",
      "Requirement already satisfied: attrs>=22.2.0 in /opt/homebrew/lib/python3.10/site-packages (from jsonschema>=3.0->altair<6,>=4.0->streamlit) (24.2.0)\n",
      "Requirement already satisfied: jsonschema-specifications>=2023.03.6 in /opt/homebrew/lib/python3.10/site-packages (from jsonschema>=3.0->altair<6,>=4.0->streamlit) (2024.10.1)\n",
      "Requirement already satisfied: referencing>=0.28.4 in /opt/homebrew/lib/python3.10/site-packages (from jsonschema>=3.0->altair<6,>=4.0->streamlit) (0.35.1)\n",
      "Requirement already satisfied: rpds-py>=0.7.1 in /opt/homebrew/lib/python3.10/site-packages (from jsonschema>=3.0->altair<6,>=4.0->streamlit) (0.21.0)\n",
      "Requirement already satisfied: six>=1.5 in /opt/homebrew/lib/python3.10/site-packages (from python-dateutil>=2.8.2->pandas<3,>=1.4.0->streamlit) (1.16.0)\n",
      "Downloading streamlit-1.44.0-py3-none-any.whl (9.8 MB)\n",
      "\u001b[2K   \u001b[90m━━━━━━━━━━━━━━━━━━━━━━━━━━━━━━━━━━━━━━━━\u001b[0m \u001b[32m9.8/9.8 MB\u001b[0m \u001b[31m22.7 MB/s\u001b[0m eta \u001b[36m0:00:00\u001b[0ma \u001b[36m0:00:01\u001b[0m\n",
      "\u001b[?25hInstalling collected packages: streamlit\n",
      "Successfully installed streamlit-1.44.0\n",
      "\n",
      "\u001b[1m[\u001b[0m\u001b[34;49mnotice\u001b[0m\u001b[1;39;49m]\u001b[0m\u001b[39;49m A new release of pip is available: \u001b[0m\u001b[31;49m24.3.1\u001b[0m\u001b[39;49m -> \u001b[0m\u001b[32;49m25.0.1\u001b[0m\n",
      "\u001b[1m[\u001b[0m\u001b[34;49mnotice\u001b[0m\u001b[1;39;49m]\u001b[0m\u001b[39;49m To update, run: \u001b[0m\u001b[32;49mpython3.10 -m pip install --upgrade pip\u001b[0m\n",
      "Note: you may need to restart the kernel to use updated packages.\n"
     ]
    }
   ],
   "source": [
    "%pip install streamlit\n"
   ]
  },
  {
   "cell_type": "code",
   "execution_count": null,
   "metadata": {},
   "outputs": [],
   "source": []
  }
 ],
 "metadata": {
  "kernelspec": {
   "display_name": "Python 3",
   "language": "python",
   "name": "python3"
  },
  "language_info": {
   "codemirror_mode": {
    "name": "ipython",
    "version": 3
   },
   "file_extension": ".py",
   "mimetype": "text/x-python",
   "name": "python",
   "nbconvert_exporter": "python",
   "pygments_lexer": "ipython3",
   "version": "3.10.16"
  }
 },
 "nbformat": 4,
 "nbformat_minor": 2
}
